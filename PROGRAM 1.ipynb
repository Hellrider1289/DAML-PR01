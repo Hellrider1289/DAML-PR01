{
 "cells": [
  {
   "cell_type": "code",
   "execution_count": 9,
   "id": "cf2ae629-fa44-4d8a-9e92-0aebbbfc5480",
   "metadata": {},
   "outputs": [
    {
     "name": "stdout",
     "output_type": "stream",
     "text": [
      "My name is Nikhil Im from Paralakhemundi . MOHAN MAJHI is the chief minister of ODISHA.\n"
     ]
    }
   ],
   "source": [
    "input = \"My name is Nikhil Im from Paralakhemundi . MOHAN MAJHI is the chief minister of ODISHA.\"\n",
    "print(input)"
   ]
  },
  {
   "cell_type": "code",
   "execution_count": 10,
   "id": "6b7a6d77-4ea6-4cb9-8d4d-8f6a1cbad2b9",
   "metadata": {},
   "outputs": [
    {
     "name": "stdout",
     "output_type": "stream",
     "text": [
      "LOWERCSE =  my name is nikhil im from paralakhemundi . mohan majhi is the chief minister of odisha.\n",
      "REGULAR EXP1 =  my name is nikhil im from chennai . mohan majhi is the chief minister of odisha.\n",
      "REGULAR EXP2 =  *y n*** *s n***** ** *ro* p*r*******un** . *o**n ***** *s t** ***** **n*st*r o* o**s**.\n",
      "REGULAR EXP3 =  my name is nikhil im from paralakhemundi . mohan majhi is the chief minister of odisha.\n"
     ]
    }
   ],
   "source": [
    "#(1)lowercase\n",
    "lowercase = input.lower()\n",
    "print(\"LOWERCSE = \", lowercase)\n",
    "\n",
    "#re\n",
    "#pip install re\n",
    "import re\n",
    "lowercase_re = re.sub('paralakhemundi','chennai' ,lowercase)\n",
    "print(\"REGULAR EXP1 = \", lowercase_re)\n",
    "lowercase_re = re.sub('[a-m]', '*', lowercase)\n",
    "print(\"REGULAR EXP2 = \", lowercase_re)\n",
    "lowercase_re = re.sub('\\d', '-', lowercase)\n",
    "print(\"REGULAR EXP3 = \", lowercase_re)"
   ]
  },
  {
   "cell_type": "code",
   "execution_count": 11,
   "id": "42beee36-4ebb-4baf-a1da-adfaccd54ec4",
   "metadata": {},
   "outputs": [
    {
     "name": "stdout",
     "output_type": "stream",
     "text": [
      "WORD TOKENS =  ['My', 'name', 'is', 'Nikhil', 'Im', 'from', 'Paralakhemundi', '.', 'MOHAN', 'MAJHI', 'is', 'the', 'chief', 'minister', 'of', 'ODISHA', '.']\n",
      "17\n",
      "SENT TOKENS =  ['My name is Nikhil Im from Paralakhemundi .', 'MOHAN MAJHI is the chief minister of ODISHA.']\n",
      "2\n"
     ]
    }
   ],
   "source": [
    "#(2)Tokenization\n",
    "import nltk\n",
    "from nltk import word_tokenize, sent_tokenize\n",
    "\n",
    "word_tokens = word_tokenize(input)\n",
    "print(\"WORD TOKENS = \", word_tokens)\n",
    "print(len(word_tokens))\n",
    "sent_tokens = sent_tokenize(input)\n",
    "print(\"SENT TOKENS = \", sent_tokens)\n",
    "print(len(sent_tokens))"
   ]
  },
  {
   "cell_type": "code",
   "execution_count": 12,
   "id": "304bfad7-ebd1-443f-aa46-f208917e197e",
   "metadata": {},
   "outputs": [
    {
     "name": "stdout",
     "output_type": "stream",
     "text": [
      "My name Nikhil Im Paralakhemundi . MOHAN MAJHI chief minister ODISHA .\n"
     ]
    }
   ],
   "source": [
    "#(3)stopwords Removal\n",
    "from nltk.corpus import stopwords\n",
    "#print(stopwords.fileids())\n",
    "stopwords = set(stopwords.words('english'))\n",
    "#print(\"\\n\", stopwords)\n",
    "\n",
    "tokens_stopwords = []\n",
    "for token in word_tokens:\n",
    "    if token not in stopwords:\n",
    "        tokens_stopwords.append(token)\n",
    "print(' '.join(tokens_stopwords))"
   ]
  }
 ],
 "metadata": {
  "kernelspec": {
   "display_name": "Python 3 (ipykernel)",
   "language": "python",
   "name": "python3"
  },
  "language_info": {
   "codemirror_mode": {
    "name": "ipython",
    "version": 3
   },
   "file_extension": ".py",
   "mimetype": "text/x-python",
   "name": "python",
   "nbconvert_exporter": "python",
   "pygments_lexer": "ipython3",
   "version": "3.13.5"
  }
 },
 "nbformat": 4,
 "nbformat_minor": 5
}
